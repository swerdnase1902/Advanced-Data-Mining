{
 "cells": [
  {
   "cell_type": "markdown",
   "metadata": {},
   "source": [
    "# Homework 1 for CS 247 : Advanced Data Mining Learning\n",
    "\n",
    "### Due: 11:59 pm 04/07\n",
    "\n",
    "\n",
    "__Name__: Chiao Lu\n",
    "\n",
    "__UID__: 204848946"
   ]
  },
  {
   "cell_type": "markdown",
   "metadata": {},
   "source": [
    "## Problem 1 Multinomial Naive Bayes Optimization\n",
    "\n",
    "For multinomial naive Bayes model, prove the MLE estimator β for what is stated in Slide 21."
   ]
  },
  {
   "cell_type": "markdown",
   "metadata": {},
   "source": [
    "#### Write Your answer here:"
   ]
  },
  {
   "cell_type": "markdown",
   "source": [
    "We want to maximize $$\\sum_{d}\\sum_{n}{x_{dn}\\log{(\\beta_{y_dn})}}=\\sum_{d}\\sum_{n}\\sum_{j}{x_{dn}\\mathbb{1}\\left(y_d=j\\right)\\log{\\left(\\beta_{jn}\\right)}}$$.\n",
    "<br>\n",
    "Let $$F\\left(\\beta_{jn}\\right)$$ be the above expression.\n",
    "<br>\n",
    "Now, $$\\frac{\\partial F}{\\partial\\beta_{jn}}=\\sum_{d}{x_{dn}\\mathbb{1}\\left(y_d=j\\right)\\times\\frac{1}{\\beta_{jn}}}$$\n",
    "<br>\n",
    "With $$\\frac{\\partial F}{\\partial\\beta_{jn}}=\\sum_{d}{x_{dn}\\mathbb{1}\\left(y_d=j\\right)\\times\\frac{1}{\\beta_{jn}}}=\\lambda$$ solve for $$\\lambda$$ using the fact that $$\\sum_{n}{\\beta_{jn}}=1$$, we get $$\\lambda=\\sum_{d}{\\sum_{n}{x_{dn}1(y_{d}=j)}}$$\n",
    "<br>\n",
    "Substitute the $$\\lambda$$ into above and get $$\\beta_{jn}=\\frac{\\sum_{d}{x_{dn}1(y_{d}=j)}}{\\sum_{d}{\\sum_{n}{x_{dn}1(y_{d}=j)}}}$$, which is equivalent to the expression given in the lecture slides.\n"
   ],
   "metadata": {
    "collapsed": false,
    "pycharm": {
     "name": "#%% md\n"
    }
   }
  },
  {
   "cell_type": "code",
   "execution_count": null,
   "metadata": {},
   "outputs": [],
   "source": []
  },
  {
   "cell_type": "markdown",
   "metadata": {},
   "source": [
    "## Problem 2:  Multinomial Naive Bayes Implementation\n",
    "\n",
    "\n",
    "In this problem, we'd like you to implement naive bayes, and apply it on a real-world sentiment classification dataset. \n",
    "\n",
    "1. We've provided a general framework \"My_MultinomialNB\" below, please fill ''TODO'' slots. More specifically, you should implement the ***fit***, ***predict_proba_without_log*** and ***predict_log_proba_with_log*** functions. \n",
    "\n",
    "    For function ***fit***, given a training dataset with feature ***X*** and label ***y***, we'd like you to calculate ***beta*** and ***pi*** with a smoothing parameter ***alpha*** (laplace smoothing). \n",
    "\n",
    "    For ***predict_proba_without_log***, given a test dataset with feature X, we'd like you to calculate the predicted probability of each data point using what we've learned in class.\n",
    "\n",
    "    For ***predict_log_proba_with_log***, given a test dataset with feature ***X***, we'd like you to calculate the log probability of each data point, using ***log_beta*** and ***log_pi***. With this function, we can also get probability using ***predict_proba_with_log***"
   ]
  },
  {
   "cell_type": "code",
   "execution_count": 123,
   "metadata": {
    "pycharm": {
     "is_executing": false
    }
   },
   "outputs": [],
   "source": [
    "import numpy as np\n",
    "class My_MultinomialNB():\n",
    "    \"\"\"\n",
    "    Multinomial Naive Bayes (MultinomialNB)\n",
    "    ==========  \n",
    "    Parameters\n",
    "    ----------\n",
    "    alpha : float, optional (default=1.0)\n",
    "        Additive (Laplace/Lidstone) smoothing parameter\n",
    "        (0 for no smoothing).\n",
    "    \"\"\"\n",
    "\n",
    "    def __init__(self, alpha=1):\n",
    "        self.alpha = alpha\n",
    "\n",
    "    def fit(self, X, y):\n",
    "        self.class_indicator = {}\n",
    "        for i, c in enumerate(np.unique(y)):\n",
    "            self.class_indicator[c] = i\n",
    "        self.n_class = len(self.class_indicator)\n",
    "        self.n_feats = np.shape(X)[1]\n",
    "        \n",
    "        self.beta    = np.zeros((self.n_class, self.n_feats))\n",
    "        self.pi      = np.zeros((self.n_class))\n",
    "        '''\n",
    "            TODO: Calculate self.beta and self.pi\n",
    "        '''\n",
    "        for row in range(self.beta.shape[0]):\n",
    "            X_correct_class = X[y==row]\n",
    "            numerator = np.sum(X_correct_class, axis=0)\n",
    "            denominator = np.sum(numerator)\n",
    "            numerator += self.alpha\n",
    "            denominator += self.alpha*self.n_feats\n",
    "            self.beta[row] = numerator/denominator\n",
    "        self.pi = np.unique(y, return_counts=True)[1]/len(y)\n",
    "        self.log_beta = np.log(self.beta)\n",
    "        self.log_pi   = np.log(self.pi)\n",
    "        \n",
    "    def predict(self, X, with_log = True):\n",
    "        if with_log:\n",
    "            probability = self.predict_proba_with_log(X)\n",
    "        else:\n",
    "            probability = self.predict_proba_without_log(X)\n",
    "        return np.argmax(probability, axis=1)    \n",
    "    \n",
    "    def predict_proba_without_log(self, X):\n",
    "        prob = np.zeros((len(X), self.n_class))\n",
    "        '''\n",
    "            TODO: Calculate probability of which class each data belongs to, using self.beta and self.pi\n",
    "        '''\n",
    "        for sample_idx in range(len(X)):\n",
    "            prob[sample_idx] = self.pi * (np.prod(np.power(self.beta, X[sample_idx]), axis=1))\n",
    "        return prob\n",
    "    \n",
    "    def predict_proba_with_log(self, X):\n",
    "        log_prob = self.predict_log_proba_with_log(X)\n",
    "        return np.exp(log_prob - np.max(log_prob, axis=1).reshape(-1, 1))\n",
    "    \n",
    "    def predict_log_proba_with_log(self, X):\n",
    "        log_prob = np.zeros((len(X), self.n_class))\n",
    "        '''\n",
    "            TODO: Calculate log-probability of which class each data belongs to, using self.log_beta and self.log_pi\n",
    "        '''\n",
    "        for sample_idx in range(len(X)):\n",
    "            # log_prob[sample_idx] = self.log_pi + np.sum(np.prod(self.log_beta, X[sample_idx]), axis=1)\n",
    "            # print(np.prod(self.log_beta, X[sample_idx]))\n",
    "            # print(self.log_beta.shape)\n",
    "            # print(X[sample_idx].shape)\n",
    "            # import time\n",
    "            # time.sleep(3600)\n",
    "            log_prob[sample_idx] = self.log_pi + np.sum(self.log_beta*X[sample_idx], axis=1)        \n",
    "        \n",
    "        return log_prob"
   ]
  },
  {
   "cell_type": "markdown",
   "metadata": {},
   "source": [
    "2. Try your Multinomial Naive Bayes Implementation on a real-world dataset and compare with the model implemented in *sklearn*.\n",
    "   \n",
    "    We've already provided the data processing code below, which will help you download 20newsgroups dataset and extract word frequency feature for each document. We also provide the code for training and predict the probability of test data, using *sklearn* implementation.\n",
    "    \n",
    "    Now, try to train the model you implement, and calculate the probability of test data using ***predict_proba_without_log*** and ***predict_log_proba_with_log***. Compare the result with what we got by *sklearn* model, are they same or not? If they are different, please try to explain the reason."
   ]
  },
  {
   "cell_type": "code",
   "execution_count": 12,
   "metadata": {
    "pycharm": {
     "is_executing": false
    }
   },
   "outputs": [],
   "source": [
    "from sklearn.datasets import fetch_20newsgroups\n",
    "\n",
    "categories = ['alt.atheism', 'soc.religion.christian',  'comp.graphics', 'sci.med']\n",
    "twenty_train = fetch_20newsgroups(subset='train', categories=categories, shuffle=True, random_state=42)\n",
    "twenty_test  = fetch_20newsgroups(subset='test',  categories=categories, shuffle=True, random_state=42)"
   ]
  },
  {
   "cell_type": "code",
   "execution_count": 32,
   "metadata": {
    "pycharm": {
     "is_executing": false
    }
   },
   "outputs": [],
   "source": [
    "from sklearn.feature_extraction.text import TfidfTransformer, CountVectorizer\n",
    "count_vect = CountVectorizer().fit(twenty_train['data'] + twenty_test['data'])\n",
    "X_train_feature = count_vect.transform(twenty_train['data']).toarray()\n",
    "X_test_feature  = count_vect.transform(twenty_test['data']).toarray()"
   ]
  },
  {
   "cell_type": "code",
   "execution_count": 106,
   "metadata": {
    "pycharm": {
     "is_executing": false
    }
   },
   "outputs": [],
   "source": [
    "from sklearn.naive_bayes import MultinomialNB\n",
    "clf = MultinomialNB()\n",
    "clf.fit(X_train_feature, twenty_train.target)\n",
    "pred_proba = clf.predict_proba(X_test_feature)\n",
    "pred = clf.predict(X_test_feature)"
   ]
  },
  {
   "cell_type": "code",
   "execution_count": 124,
   "metadata": {
    "pycharm": {
     "is_executing": false
    }
   },
   "outputs": [
    {
     "data": {
      "text/plain": "'\\n    TODO: Train your model, and then get the probability result using \"predict_proba_without_log\" and \"predict_proba_with_log\"\\n'"
     },
     "metadata": {},
     "output_type": "execute_result",
     "execution_count": 124
    }
   ],
   "source": [
    "my_clf = My_MultinomialNB()\n",
    "'''\n",
    "    TODO: Train your model, and then get the probability result using \"predict_proba_without_log\" and \"predict_proba_with_log\"\n",
    "'''"
   ]
  },
  {
   "cell_type": "code",
   "execution_count": 128,
   "metadata": {
    "pycharm": {
     "is_executing": false
    }
   },
   "outputs": [
    {
     "name": "stdout",
     "text": [
      "Is pred_proba_without_log from my_clf close to pred_proba from sklearn? False\n",
      "Is pred_proba_with_log from my_clf close to pred_proba from sklearn? False\n",
      "Test accuracy of sklearn model: 0.9347536617842876\n",
      "Test accuracy of our model (without log): 0.36684420772303594\n",
      "Test accuracy of our model (with log): 0.9347536617842876\n",
      "Does my_clf (with log) give the same prediction as sklearn? True\n"
     ],
     "output_type": "stream"
    }
   ],
   "source": [
    "my_clf.fit(X_train_feature, twenty_train.target)\n",
    "pred_proba_without_log = my_clf.predict_proba_without_log(X_test_feature)\n",
    "pred_proba_with_log = my_clf.predict_proba_with_log(X_test_feature)\n",
    "print(\"Is pred_proba_without_log from my_clf close to pred_proba from sklearn? {}\".format(np.allclose(pred_proba, pred_proba_without_log)))\n",
    "print(\"Is pred_proba_with_log from my_clf close to pred_proba from sklearn? {}\".format(np.allclose(pred_proba, pred_proba_with_log)))\n",
    "from sklearn.metrics import accuracy_score\n",
    "print(\"Test accuracy of sklearn model: {}\".format(accuracy_score(twenty_test.target, pred)))\n",
    "print(\"Test accuracy of our model (without log): {}\".format(accuracy_score(twenty_test.target, my_clf.predict(X_test_feature, with_log=False))))\n",
    "my_pred_with_log = my_clf.predict(X_test_feature, with_log=True)\n",
    "print(\"Test accuracy of our model (with log): {}\".format(accuracy_score(twenty_test.target, my_pred_with_log)))\n",
    "print(\"Does my_clf (with log) give the same prediction as sklearn? {}\".format(np.array_equal(my_pred_with_log, pred)))"
   ]
  },
  {
   "cell_type": "markdown",
   "source": [
    "Since sklearn performs normalization but we don't, there will be difference in the actual probability values; the predicted labels are identical, though. Also, the non-log version doesn't yield reasonable results because of overflowing issues."
   ],
   "metadata": {
    "collapsed": false
   }
  },
  {
   "cell_type": "markdown",
   "metadata": {},
   "source": [
    "2. Now, provide the evaluation result of your model, using accuracy as evaluation metric. \n",
    "    Next, choose different laplacian smoothing parameter ***alpha***, including (0, 0.001, 0.01, 0.1, 1, 10, 100, 1000). Plot the accuracy curve with different ***alpha*** using *matplotlib* package or *seaborn* package. \n",
    "    \n",
    "3. What is the best ***alpha***? Please explain why when ***alpha*** = 0 and ***alpha*** = 1000, the performance is relatively worse than the best case."
   ]
  },
  {
   "cell_type": "code",
   "execution_count": 89,
   "metadata": {
    "pycharm": {
     "is_executing": false
    }
   },
   "outputs": [
    {
     "name": "stdout",
     "text": [
      "Predicting when alpha is 0.\n",
      "Predicting when alpha is 0.001.\n",
      "Predicting when alpha is 0.1.\n",
      "Predicting when alpha is 1.\n",
      "Predicting when alpha is 10.\n",
      "Predicting when alpha is 100.\n",
      "Predicting when alpha is 1000.\n",
      "Predicting when alpha is 10000.\n"
     ],
     "output_type": "stream"
    },
    {
     "name": "stderr",
     "text": [
      "<ipython-input-80-72195c3d5677>:34: RuntimeWarning: divide by zero encountered in log\n",
      "  self.log_beta = np.log(self.beta)\n",
      "<ipython-input-80-72195c3d5677>:69: RuntimeWarning: invalid value encountered in multiply\n",
      "  log_prob[sample_idx] = self.log_pi + np.sum(self.log_beta*X[sample_idx], axis=1)\n"
     ],
     "output_type": "stream"
    }
   ],
   "source": [
    "def accuracy(y_true, y_pred):\n",
    "    '''\n",
    "        TODO: Implement accuracy metric\n",
    "    '''\n",
    "    assert len(y_pred) == len(y_true)\n",
    "    return ((y_pred == y_true).sum())/len(y_true)\n",
    "\n",
    "accs = []\n",
    "for alpha in [0, 0.001, 0.1, 1, 10, 100, 1000, 10000]:\n",
    "    '''\n",
    "        TODO: Train the model with different alpha, and get corresponding a\n",
    "    '''\n",
    "    print(\"Predicting when alpha is {}.\".format(alpha))\n",
    "    clf = My_MultinomialNB(alpha=alpha)\n",
    "    clf.fit(X_train_feature, twenty_train.target)\n",
    "    pred = clf.predict(X_test_feature, with_log=True)\n",
    "    a = accuracy(twenty_test.target, pred)\n",
    "    accs.append(a)"
   ]
  },
  {
   "cell_type": "code",
   "execution_count": 90,
   "metadata": {
    "pycharm": {
     "is_executing": false
    }
   },
   "outputs": [
    {
     "data": {
      "text/plain": "<Figure size 432x288 with 1 Axes>",
      "image/png": "[encoded data removed]"
     },
     "metadata": {
      "needs_background": "light"
     },
     "output_type": "display_data"
    }
   ],
   "source": [
    "import matplotlib.pyplot as plt\n",
    "plt.plot(accs)\n",
    "plt.xticks(np.arange(8), [0, 0.001, 0.01, 0.1, 1, 10, 100, 1000])\n",
    "plt.show()"
   ]
  },
  {
   "cell_type": "markdown",
   "source": [
    "From the plot above, $$\\alpha$$ being 0.001 gives the best accuracy.\n",
    "<br><br>\n",
    "$$\\alpha$$ being 0 performs really bad because it means that there's no smoothing. $$\\beta_{jn}$$ will degrade to 0 often.\n",
    "<br><br>\n",
    "$$\\alpha$$ being 10000 also performs really bad because since $$\\beta_{jn}=\\frac{\\mathrm{something}+\\alpha}{\\mathrm{somethingelse}+\\alpha N}$$. With $$\\alpha\\rightarrow\\infty, \\beta\\rightarrow\\frac{1}{N}$$ which is just a constant."
   ],
   "metadata": {
    "collapsed": false,
    "pycharm": {
     "name": "#%% md\n"
    }
   }
  }
 ],
 "metadata": {
  "kernelspec": {
   "display_name": "Python 3",
   "language": "python",
   "name": "python3"
  },
  "language_info": {
   "codemirror_mode": {
    "name": "ipython",
    "version": 3
   },
   "file_extension": ".py",
   "mimetype": "text/x-python",
   "name": "python",
   "nbconvert_exporter": "python",
   "pygments_lexer": "ipython3",
   "version": "3.7.6"
  },
  "pycharm": {
   "stem_cell": {
    "cell_type": "raw",
    "source": [],
    "metadata": {
     "collapsed": false
    }
   }
  }
 },
 "nbformat": 4,
 "nbformat_minor": 2
}